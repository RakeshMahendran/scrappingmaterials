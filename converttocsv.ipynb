{
 "cells": [
  {
   "cell_type": "code",
   "execution_count": 1,
   "metadata": {},
   "outputs": [
    {
     "name": "stdout",
     "output_type": "stream",
     "text": [
      "Defaulting to user installation because normal site-packages is not writeable\n",
      "Requirement already satisfied: pandas in /home/lenovo/.local/lib/python3.10/site-packages (2.2.0)\n",
      "Requirement already satisfied: numpy<2,>=1.22.4 in /home/lenovo/.local/lib/python3.10/site-packages (from pandas) (1.26.0)\n",
      "Requirement already satisfied: python-dateutil>=2.8.2 in /home/lenovo/.local/lib/python3.10/site-packages (from pandas) (2.8.2)\n",
      "Requirement already satisfied: pytz>=2020.1 in /home/lenovo/.local/lib/python3.10/site-packages (from pandas) (2024.1)\n",
      "Requirement already satisfied: tzdata>=2022.7 in /home/lenovo/.local/lib/python3.10/site-packages (from pandas) (2023.4)\n",
      "Requirement already satisfied: six>=1.5 in /usr/lib/python3/dist-packages (from python-dateutil>=2.8.2->pandas) (1.16.0)\n",
      "Note: you may need to restart the kernel to use updated packages.\n"
     ]
    }
   ],
   "source": [
    "%pip install pandas"
   ]
  },
  {
   "cell_type": "code",
   "execution_count": 3,
   "metadata": {},
   "outputs": [
    {
     "data": {
      "text/plain": [
       "'/home/lenovo/Desktop/scrapping/startupdetails.csv'"
      ]
     },
     "execution_count": 3,
     "metadata": {},
     "output_type": "execute_result"
    }
   ],
   "source": [
    "# Creating a CSV file with all the provided details for the startups including FleetSmith and updating previous entries as required.\n",
    "\n",
    "import pandas as pd\n",
    "\n",
    "# Data for the startups\n",
    "# Preparing the data in JSON format as requested, including all details and ensuring to list all industries for multi-industry startups\n",
    "data = {\n",
    "    \"id\": [233, 234],\n",
    "    \"startup_name\": [\"JusPay\", \"Juvo\"],\n",
    "    \"Analyst Rating\": [None, None],  # Not specified in the provided content\n",
    "    \"GSI\": [None, None],  # Not specified in the provided content\n",
    "    \"Partners\": [None, None],  # Not specified in the provided content\n",
    "    \"Customer\": [\n",
    "        None,  # No specific customers mentioned for JusPay\n",
    "        None  # No specific customers mentioned for Juvo\n",
    "    ],\n",
    "    \"Usecase\": [\n",
    "        \"Digital payments gateway offering an express checkout solution for eCommerce merchants, aiming to simplify and secure online transactions.\",\n",
    "        \"Mobile usage behavior-based credit scoring system that partners with mobile operators to facilitate financial inclusion through access to credit and financial services.\"\n",
    "    ],\n",
    "    \"Solution\": [\n",
    "        \"JusPay provides a secure and efficient payment checkout solution, reducing checkout time to under 15 seconds and handling PCI compliance.\",\n",
    "        \"Juvo leverages smartphone adoption and mobile usage data to improve financial inclusion, offering credit and financial services via a rewards-based app.\"\n",
    "    ],\n",
    "    \"startup_url\": [\n",
    "        \"juspay.in\",\n",
    "        \"juvo.com\"\n",
    "    ],\n",
    "    \"startup_industry\": [\n",
    "        \"Fintech, eCommerce\",\n",
    "        \"Real Estate, Financial Services\"\n",
    "    ],\n",
    "    \"startup_technology\": [\n",
    "        \"Digital Payments, Secure Checkout\",\n",
    "        \"Credit Scoring, Financial Inclusion\"\n",
    "    ],\n",
    "    \"startup_overview\": [\n",
    "        \"JusPay enhances online payment experiences for eCommerce merchants through its innovative express checkout solution, targeting multiple markets beyond eCommerce.\",\n",
    "        \"Juvo empowers financial inclusion by partnering with mobile operators, using mobile behavior data to provide credit and financial services.\"\n",
    "    ],\n",
    "    \"startup_description\": [\n",
    "        \"JusPay streamlines the payment process for online merchants, focusing on speed, security, and a seamless user experience, with plans to expand into VAS, digital goods, and bill payments.\",\n",
    "        \"Juvo develops credit scores based on mobile usage to enable access to financial services, operating in 23 countries and reaching 100 million subscribers.\"\n",
    "    ],\n",
    "    \"startup_company_stage\": [\"Series C\", \"Series B\"],\n",
    "    \"startup_country\": [\"India\", \"USA\"],\n",
    "    \"startup_founders_info\": [\n",
    "        \"Ramanathan RV (Co-Founder, Ex Amazon, BankBazaar.com, NIT Trichy), Vimal Kumar (Founder, Ex Amazon, BankBazaar.com, CEG Anna University)\",\n",
    "        \"Steve Polsky (Founder & CEO, ex Mark Day School, Flixster, Riverside Publishing, University of Pennsylvania)\"\n",
    "    ],\n",
    "    \"startup_emails\": [\n",
    "        \"ramanathan@juspay.in, vimalkumar@gmail.com, vimal@juspay.in, vimal.kumar@juspay.in\",\n",
    "        \"steve@juvo.com\"\n",
    "    ]\n",
    "}\n",
    "\n",
    "\n",
    "\n",
    "\n",
    "\n",
    "\n",
    "\n",
    "# Update DataFrame\n",
    "df_updated = pd.DataFrame(data)\n",
    "\n",
    "# Save to a new CSV to include Dremio's details\n",
    "csv_file_path_with_dremio = \"/home/lenovo/Desktop/scrapping/startupdetails.csv\"\n",
    "df_updated.to_csv(csv_file_path_with_dremio, index=False)\n",
    "\n",
    "csv_file_path_with_dremio"
   ]
  }
 ],
 "metadata": {
  "kernelspec": {
   "display_name": "Python 3",
   "language": "python",
   "name": "python3"
  },
  "language_info": {
   "codemirror_mode": {
    "name": "ipython",
    "version": 3
   },
   "file_extension": ".py",
   "mimetype": "text/x-python",
   "name": "python",
   "nbconvert_exporter": "python",
   "pygments_lexer": "ipython3",
   "version": "3.10.7"
  }
 },
 "nbformat": 4,
 "nbformat_minor": 2
}
